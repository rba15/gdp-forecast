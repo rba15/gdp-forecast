{
 "cells": [
  {
   "cell_type": "markdown",
   "id": "d1e9f1f6",
   "metadata": {},
   "source": [
    "# EDA for GDP Forecasting Dataset (Extended)"
   ]
  },
  {
   "cell_type": "markdown",
   "id": "f7e2dc2f",
   "metadata": {},
   "source": [
    "## Import and Configuration"
   ]
  },
  {
   "cell_type": "code",
   "execution_count": null,
   "id": "dc0c2052",
   "metadata": {
    "vscode": {
     "languageId": "plaintext"
    }
   },
   "outputs": [],
   "source": [
    "import pandas as pd\n",
    "import numpy as np\n",
    "import matplotlib.pyplot as plt\n",
    "import seaborn as sns"
   ]
  },
  {
   "cell_type": "markdown",
   "id": "dc12d138",
   "metadata": {},
   "source": [
    "TRAIN_FILE = \"gdp_train.parquet\"\n",
    "TARGET = \"NY.GDP.MKTP.CD\"\n",
    "LAG_FEATURES = [col for col in pd.read_parquet(TRAIN_FILE).columns if 'lag' in col]\n",
    "TRADE_FEATURES = ['NE.EXP.GNFS.CD', 'NE.IMP.GNFS.CD', 'Trade_balance', 'Exports_to_Imports_ratio']"
   ]
  },
  {
   "cell_type": "markdown",
   "id": "ae7ab467",
   "metadata": {},
   "source": [
    "## Load Train Data"
   ]
  },
  {
   "cell_type": "code",
   "execution_count": null,
   "id": "bf59522b",
   "metadata": {
    "vscode": {
     "languageId": "plaintext"
    }
   },
   "outputs": [],
   "source": [
    "df = pd.read_parquet(TRAIN_FILE)\n",
    "print(f\"Train data shape: {df.shape}\")\n",
    "df.head()"
   ]
  },
  {
   "cell_type": "code",
   "execution_count": null,
   "id": "46ad676c",
   "metadata": {
    "vscode": {
     "languageId": "plaintext"
    }
   },
   "outputs": [],
   "source": [
    "df.sort_values(by=['country', 'date'], inplace=True) # SORT BY COUNTRY AND DATE"
   ]
  },
  {
   "cell_type": "markdown",
   "id": "dd860db6",
   "metadata": {},
   "source": [
    "## Perform Analysis on Train Data"
   ]
  },
  {
   "cell_type": "markdown",
   "id": "e19e98cc",
   "metadata": {},
   "source": [
    "### GDP DISTRIBUTION"
   ]
  },
  {
   "cell_type": "code",
   "execution_count": null,
   "id": "79efc550",
   "metadata": {
    "vscode": {
     "languageId": "plaintext"
    }
   },
   "outputs": [],
   "source": [
    "plt.figure(figsize=(8,5))\n",
    "sns.histplot(df[TARGET], bins=50, kde=True)\n",
    "plt.title(\"Distribution of GDP\")\n",
    "plt.xlabel(\"GDP\")\n",
    "plt.ylabel(\"Count\")\n",
    "plt.show()"
   ]
  },
  {
   "cell_type": "markdown",
   "id": "18d2bdcd",
   "metadata": {},
   "source": [
    "### GDP over time by country\n"
   ]
  },
  {
   "cell_type": "code",
   "execution_count": null,
   "id": "a0223e49",
   "metadata": {
    "vscode": {
     "languageId": "plaintext"
    }
   },
   "outputs": [],
   "source": [
    "plt.figure(figsize=(12,6))\n",
    "for country, group in df.groupby(\"country\"):\n",
    "    plt.plot(group[\"date\"], group[TARGET], label=country, alpha=0.6)\n",
    "plt.title(\"GDP over time by country\")\n",
    "plt.xlabel(\"Year\")\n",
    "plt.ylabel(\"GDP\")\n",
    "plt.legend(bbox_to_anchor=(1.05, 1), loc='upper left', fontsize='small')\n",
    "plt.show()"
   ]
  },
  {
   "cell_type": "markdown",
   "id": "8c0739db",
   "metadata": {},
   "source": [
    "### CALCULATE GDP GROWTH RATE"
   ]
  },
  {
   "cell_type": "code",
   "execution_count": null,
   "id": "5df65cb3",
   "metadata": {
    "vscode": {
     "languageId": "plaintext"
    }
   },
   "outputs": [],
   "source": [
    "df['GDP_growth'] = df.groupby('country')[TARGET].pct_change() * 100\n",
    "\n",
    "plt.figure(figsize=(12,6))\n",
    "for country, group in df.groupby('country'):\n",
    "    plt.plot(group[\"date\"], group[\"GDP_growth\"], label=country, alpha=0.6)\n",
    "plt.title(\"GDP Growth Rate (%) by Country\")\n",
    "plt.xlabel(\"Year\")\n",
    "plt.ylabel(\"Growth Rate (%)\")\n",
    "plt.legend(bbox_to_anchor=(1.05, 1), loc='upper left', fontsize='small')\n",
    "plt.show()"
   ]
  },
  {
   "cell_type": "markdown",
   "id": "aa058f06",
   "metadata": {},
   "source": [
    "### LAGGED GDP CORRELATION ANALYSIS\n"
   ]
  },
  {
   "cell_type": "code",
   "execution_count": null,
   "id": "cd647fba",
   "metadata": {
    "vscode": {
     "languageId": "plaintext"
    }
   },
   "outputs": [],
   "source": [
    "print(\"Correlation of lagged GDP features with target GDP:\")\n",
    "for lag_col in LAG_FEATURES:\n",
    "    if lag_col in df.columns:\n",
    "        corr = df[lag_col].corr(df[TARGET])\n",
    "        print(f\"{lag_col}: correlation = {corr:.3f}\")"
   ]
  },
  {
   "cell_type": "markdown",
   "id": "5c577304",
   "metadata": {},
   "source": [
    "### TRADE FEATURES OVER TIME\n"
   ]
  },
  {
   "cell_type": "code",
   "execution_count": null,
   "id": "a2eca24a",
   "metadata": {
    "vscode": {
     "languageId": "plaintext"
    }
   },
   "outputs": [],
   "source": [
    "for feat in TRADE_FEATURES:\n",
    "    if feat in df.columns:\n",
    "        plt.figure(figsize=(12,6))\n",
    "        for country, group in df.groupby('country'):\n",
    "            plt.plot(group['date'], group[feat], label=country, alpha=0.6)\n",
    "        plt.title(f\"{feat} over time by country\")\n",
    "        plt.xlabel(\"Year\")\n",
    "        plt.ylabel(feat)\n",
    "        plt.legend(bbox_to_anchor=(1.05, 1), loc='upper left', fontsize='small')\n",
    "        plt.show()"
   ]
  },
  {
   "cell_type": "markdown",
   "id": "af9ed8ed",
   "metadata": {},
   "source": [
    "### FEATURE CORRELATION WITH TARGET\n"
   ]
  },
  {
   "cell_type": "code",
   "execution_count": null,
   "id": "161e712f",
   "metadata": {
    "vscode": {
     "languageId": "plaintext"
    }
   },
   "outputs": [],
   "source": [
    "numeric_cols = df.select_dtypes(include=[np.number]).columns.tolist()\n",
    "numeric_cols.remove(TARGET)\n",
    "corr_matrix = df[numeric_cols + [TARGET]].corr()\n",
    "target_corr = corr_matrix[TARGET].sort_values(ascending=False)\n",
    "top_pos_corr = target_corr.head(10)\n",
    "top_neg_corr = target_corr.tail(10)\n",
    "print(\"Top positive correlated features with GDP:\")\n",
    "print(top_pos_corr)\n",
    "print(\"\\nTop negative correlated features with GDP:\")\n",
    "print(top_neg_corr)"
   ]
  },
  {
   "cell_type": "markdown",
   "id": "8bce1189",
   "metadata": {},
   "source": [
    "### HEATMAP OF TOP CORRELATED FEATURES\n"
   ]
  },
  {
   "cell_type": "code",
   "execution_count": null,
   "id": "41f03d27",
   "metadata": {
    "vscode": {
     "languageId": "plaintext"
    }
   },
   "outputs": [],
   "source": [
    "top_features = list(top_pos_corr.index) + list(top_neg_corr.index)\n",
    "plt.figure(figsize=(10,8))\n",
    "sns.heatmap(df[top_features + [TARGET]].corr(), annot=True, fmt=\".2f\", cmap=\"coolwarm\")\n",
    "plt.title(\"Correlation Heatmap of Top Features with GDP\")\n",
    "plt.show()"
   ]
  },
  {
   "cell_type": "markdown",
   "id": "27e96f7c",
   "metadata": {},
   "source": [
    "### SCATTER PLOTS OF TOP FEATURES VS GDP"
   ]
  },
  {
   "cell_type": "code",
   "execution_count": null,
   "id": "ddef9bd4",
   "metadata": {
    "vscode": {
     "languageId": "plaintext"
    }
   },
   "outputs": [],
   "source": [
    "for col in top_features:\n",
    "    plt.figure(figsize=(6,4))\n",
    "    sns.scatterplot(x=df[col], y=df[TARGET])\n",
    "    plt.title(f\"{col} vs {TARGET}\")\n",
    "    plt.xlabel(col)\n",
    "    plt.ylabel(TARGET)\n",
    "    plt.show()"
   ]
  },
  {
   "cell_type": "markdown",
   "id": "63dc2771",
   "metadata": {},
   "source": [
    "### MISSING VALUES HEATMAP"
   ]
  },
  {
   "cell_type": "code",
   "execution_count": null,
   "id": "9eed245e",
   "metadata": {
    "vscode": {
     "languageId": "plaintext"
    }
   },
   "outputs": [],
   "source": [
    "plt.figure(figsize=(12,6))\n",
    "sns.heatmap(df.isnull(), cbar=False)\n",
    "plt.title(\"Missing Values Heatmap\")\n",
    "plt.show()"
   ]
  },
  {
   "cell_type": "markdown",
   "id": "88438133",
   "metadata": {},
   "source": [
    "### SKEWNESS OF NUMERIC FEATURES"
   ]
  },
  {
   "cell_type": "code",
   "execution_count": null,
   "id": "1d4d114f",
   "metadata": {
    "vscode": {
     "languageId": "plaintext"
    }
   },
   "outputs": [],
   "source": [
    "skewness = df[numeric_cols].skew().sort_values(ascending=False)\n",
    "print(\"Top skewed numeric features:\")\n",
    "print(skewness.head(10))"
   ]
  }
 ],
 "metadata": {
  "language_info": {
   "name": "python"
  }
 },
 "nbformat": 4,
 "nbformat_minor": 5
}
